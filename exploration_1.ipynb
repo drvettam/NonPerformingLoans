{
 "cells": [
  {
   "cell_type": "markdown",
   "metadata": {},
   "source": [
    "# Explore PERIMETRO INIZIALE\n",
    "\n",
    "The file PERIMETRO_INIZIALE.csv is the key file for this data challenge. For this reason it make sense to start the data exploration from here.\n",
    "\n",
    "The file contains monthly information of NPL customers such as:\n",
    "* Reference month and year\n",
    "* Bank brench managing the customer\n",
    "* Customer ID\n",
    "* Gross Book Value of the debt\n",
    "* Monthly recovered amount\n",
    "\n",
    "This dataset represents the historical information on NPLs in the period of reference.\n",
    "\n",
    "In this first explorative phase I will try to:\n",
    "1. Clean the dataset by removing/replacing null values and rejecting invalid rows;\n",
    "2. Explore the available information and, if necessary, define additional interesting new features;\n",
    "3. Perfom some analytics to develop intuitions about the data and their meaning;\n",
    "\n",
    "At the end of the notebook I will summarize any interesting finding and important takeaways;"
   ]
  },
  {
   "cell_type": "code",
   "execution_count": 1,
   "metadata": {},
   "outputs": [],
   "source": [
    "import pandas as pd\n",
    "import numpy as np\n",
    "import seaborn as sns\n",
    "import os.path as path\n",
    "import matplotlib.pyplot as plt\n",
    "import matplotlib.dates as mdates\n",
    "\n",
    "DATA_PATH = 'DATA'"
   ]
  },
  {
   "cell_type": "markdown",
   "metadata": {},
   "source": [
    "## Open the file and cross-check consistency"
   ]
  },
  {
   "cell_type": "code",
   "execution_count": 2,
   "metadata": {},
   "outputs": [],
   "source": [
    "df=pd.read_csv(path.join(DATA_PATH, 'PERIMETRO_INIZIALE.csv'), sep=';', decimal=',', low_memory=False)"
   ]
  },
  {
   "cell_type": "markdown",
   "metadata": {},
   "source": [
    "Dataset shape:"
   ]
  },
  {
   "cell_type": "code",
   "execution_count": 3,
   "metadata": {},
   "outputs": [
    {
     "data": {
      "text/plain": [
       "(528849, 9)"
      ]
     },
     "execution_count": 3,
     "metadata": {},
     "output_type": "execute_result"
    }
   ],
   "source": [
    "df.shape"
   ]
  },
  {
   "cell_type": "markdown",
   "metadata": {},
   "source": [
    "All dataset columns are read correctly:"
   ]
  },
  {
   "cell_type": "code",
   "execution_count": 4,
   "metadata": {},
   "outputs": [
    {
     "data": {
      "text/html": [
       "<div>\n",
       "<style scoped>\n",
       "    .dataframe tbody tr th:only-of-type {\n",
       "        vertical-align: middle;\n",
       "    }\n",
       "\n",
       "    .dataframe tbody tr th {\n",
       "        vertical-align: top;\n",
       "    }\n",
       "\n",
       "    .dataframe thead th {\n",
       "        text-align: right;\n",
       "    }\n",
       "</style>\n",
       "<table border=\"1\" class=\"dataframe\">\n",
       "  <thead>\n",
       "    <tr style=\"text-align: right;\">\n",
       "      <th></th>\n",
       "      <th>NUM_ANNO</th>\n",
       "      <th>NUM_YYYYMM</th>\n",
       "      <th>FILIALE</th>\n",
       "      <th>ID_CUSTOMER</th>\n",
       "      <th>NUM_DATA_SOFFERENZA</th>\n",
       "      <th>IMP_GBV</th>\n",
       "      <th>IMP_INCASSI</th>\n",
       "      <th>IMP_CUSUM_INCASSI</th>\n",
       "      <th>IMP_INCASSI_TOT</th>\n",
       "    </tr>\n",
       "  </thead>\n",
       "  <tbody>\n",
       "    <tr>\n",
       "      <th>0</th>\n",
       "      <td>2015</td>\n",
       "      <td>201511</td>\n",
       "      <td>13721</td>\n",
       "      <td>12519</td>\n",
       "      <td>2003.0</td>\n",
       "      <td>10187.48</td>\n",
       "      <td>0.0</td>\n",
       "      <td>0.0</td>\n",
       "      <td>0.0</td>\n",
       "    </tr>\n",
       "    <tr>\n",
       "      <th>1</th>\n",
       "      <td>2015</td>\n",
       "      <td>201512</td>\n",
       "      <td>13721</td>\n",
       "      <td>12519</td>\n",
       "      <td>2003.0</td>\n",
       "      <td>10223.53</td>\n",
       "      <td>0.0</td>\n",
       "      <td>0.0</td>\n",
       "      <td>0.0</td>\n",
       "    </tr>\n",
       "    <tr>\n",
       "      <th>2</th>\n",
       "      <td>2016</td>\n",
       "      <td>201601</td>\n",
       "      <td>13721</td>\n",
       "      <td>12519</td>\n",
       "      <td>2003.0</td>\n",
       "      <td>10257.87</td>\n",
       "      <td>0.0</td>\n",
       "      <td>0.0</td>\n",
       "      <td>0.0</td>\n",
       "    </tr>\n",
       "    <tr>\n",
       "      <th>3</th>\n",
       "      <td>2016</td>\n",
       "      <td>201602</td>\n",
       "      <td>13721</td>\n",
       "      <td>12519</td>\n",
       "      <td>2003.0</td>\n",
       "      <td>10289.95</td>\n",
       "      <td>0.0</td>\n",
       "      <td>0.0</td>\n",
       "      <td>0.0</td>\n",
       "    </tr>\n",
       "    <tr>\n",
       "      <th>4</th>\n",
       "      <td>2016</td>\n",
       "      <td>201603</td>\n",
       "      <td>13721</td>\n",
       "      <td>12519</td>\n",
       "      <td>2003.0</td>\n",
       "      <td>10324.25</td>\n",
       "      <td>0.0</td>\n",
       "      <td>0.0</td>\n",
       "      <td>0.0</td>\n",
       "    </tr>\n",
       "  </tbody>\n",
       "</table>\n",
       "</div>"
      ],
      "text/plain": [
       "   NUM_ANNO  NUM_YYYYMM  FILIALE  ID_CUSTOMER  NUM_DATA_SOFFERENZA   IMP_GBV  \\\n",
       "0      2015      201511    13721        12519               2003.0  10187.48   \n",
       "1      2015      201512    13721        12519               2003.0  10223.53   \n",
       "2      2016      201601    13721        12519               2003.0  10257.87   \n",
       "3      2016      201602    13721        12519               2003.0  10289.95   \n",
       "4      2016      201603    13721        12519               2003.0  10324.25   \n",
       "\n",
       "   IMP_INCASSI  IMP_CUSUM_INCASSI  IMP_INCASSI_TOT  \n",
       "0          0.0                0.0              0.0  \n",
       "1          0.0                0.0              0.0  \n",
       "2          0.0                0.0              0.0  \n",
       "3          0.0                0.0              0.0  \n",
       "4          0.0                0.0              0.0  "
      ]
     },
     "execution_count": 4,
     "metadata": {},
     "output_type": "execute_result"
    }
   ],
   "source": [
    "df.head()"
   ]
  },
  {
   "cell_type": "code",
   "execution_count": 5,
   "metadata": {},
   "outputs": [
    {
     "name": "stdout",
     "output_type": "stream",
     "text": [
      "<class 'pandas.core.frame.DataFrame'>\n",
      "RangeIndex: 528849 entries, 0 to 528848\n",
      "Data columns (total 9 columns):\n",
      "NUM_ANNO               528849 non-null int64\n",
      "NUM_YYYYMM             528849 non-null int64\n",
      "FILIALE                528849 non-null int64\n",
      "ID_CUSTOMER            528849 non-null int64\n",
      "NUM_DATA_SOFFERENZA    482751 non-null float64\n",
      "IMP_GBV                528849 non-null float64\n",
      "IMP_INCASSI            528849 non-null float64\n",
      "IMP_CUSUM_INCASSI      528849 non-null float64\n",
      "IMP_INCASSI_TOT        528849 non-null float64\n",
      "dtypes: float64(5), int64(4)\n",
      "memory usage: 36.3 MB\n"
     ]
    }
   ],
   "source": [
    "df.info()"
   ]
  },
  {
   "cell_type": "markdown",
   "metadata": {},
   "source": [
    "## Check for NAN values"
   ]
  },
  {
   "cell_type": "code",
   "execution_count": 6,
   "metadata": {},
   "outputs": [
    {
     "data": {
      "text/plain": [
       "NUM_ANNO                   0\n",
       "NUM_YYYYMM                 0\n",
       "FILIALE                    0\n",
       "ID_CUSTOMER                0\n",
       "NUM_DATA_SOFFERENZA    46098\n",
       "IMP_GBV                    0\n",
       "IMP_INCASSI                0\n",
       "IMP_CUSUM_INCASSI          0\n",
       "IMP_INCASSI_TOT            0\n",
       "dtype: int64"
      ]
     },
     "execution_count": 6,
     "metadata": {},
     "output_type": "execute_result"
    }
   ],
   "source": [
    "df.isnull().sum(axis = 0)"
   ]
  },
  {
   "cell_type": "markdown",
   "metadata": {},
   "source": [
    "* The only missing values are found in the 'NUM_DATA_SOFFERENZA' column, which report the first date of credit distress. \n",
    "* Given the definition of the column's content, I assume that its value should be unique for each customer. \n",
    "* So, if a customer shows a non-null value for this column, the same value is used to fill the NaN (using ffill() & bfill())"
   ]
  },
  {
   "cell_type": "code",
   "execution_count": 7,
   "metadata": {},
   "outputs": [],
   "source": [
    "df['NUM_DATA_SOFFERENZA'] = df.groupby('ID_CUSTOMER')['NUM_DATA_SOFFERENZA'].transform(lambda x : x.ffill().bfill())"
   ]
  },
  {
   "cell_type": "code",
   "execution_count": 8,
   "metadata": {},
   "outputs": [
    {
     "data": {
      "text/plain": [
       "NUM_ANNO                  0\n",
       "NUM_YYYYMM                0\n",
       "FILIALE                   0\n",
       "ID_CUSTOMER               0\n",
       "NUM_DATA_SOFFERENZA    2247\n",
       "IMP_GBV                   0\n",
       "IMP_INCASSI               0\n",
       "IMP_CUSUM_INCASSI         0\n",
       "IMP_INCASSI_TOT           0\n",
       "dtype: int64"
      ]
     },
     "execution_count": 8,
     "metadata": {},
     "output_type": "execute_result"
    }
   ],
   "source": [
    "df.isnull().sum(axis = 0)"
   ]
  },
  {
   "cell_type": "markdown",
   "metadata": {},
   "source": [
    "* I recover 43'851 entries with missing 'NUM_DATA_SOFFERENZA' representing 95% of the total\n",
    "* There are 2'247 rows which remain undefined\n",
    "\n",
    "Unfortunately there is no way to recover the correct values, or at least there are no further indications in this dataset. Since this feature is used later to define the number of month the NPL is delinquent, entires for which this feature is not defined are discarded."
   ]
  },
  {
   "cell_type": "code",
   "execution_count": 9,
   "metadata": {},
   "outputs": [],
   "source": [
    "df.dropna(inplace=True)"
   ]
  },
  {
   "cell_type": "markdown",
   "metadata": {},
   "source": [
    "Let's check the non null values:"
   ]
  },
  {
   "cell_type": "code",
   "execution_count": 10,
   "metadata": {},
   "outputs": [
    {
     "data": {
      "text/plain": [
       "1010.0        22\n",
       "1976.0        16\n",
       "1979.0        24\n",
       "1982.0        21\n",
       "1983.0        61\n",
       "1984.0       109\n",
       "1985.0       107\n",
       "1986.0        95\n",
       "1987.0       424\n",
       "1988.0       524\n",
       "1989.0       668\n",
       "1990.0       669\n",
       "1991.0       834\n",
       "1992.0       996\n",
       "1993.0      1351\n",
       "1994.0      2172\n",
       "1995.0      1931\n",
       "1996.0      1456\n",
       "1997.0      3047\n",
       "1998.0      3433\n",
       "1999.0      3961\n",
       "2000.0      5320\n",
       "2001.0      8543\n",
       "2002.0      7329\n",
       "2003.0      9433\n",
       "2004.0     10965\n",
       "2005.0     15869\n",
       "2006.0     19016\n",
       "2007.0     30096\n",
       "2008.0     39729\n",
       "2009.0     62072\n",
       "2010.0     50044\n",
       "2011.0      8180\n",
       "2012.0      7821\n",
       "2013.0     10115\n",
       "2014.0     16334\n",
       "2015.0    103805\n",
       "2016.0     87297\n",
       "2017.0     12713\n",
       "Name: NUM_DATA_SOFFERENZA, dtype: int64"
      ]
     },
     "execution_count": 10,
     "metadata": {},
     "output_type": "execute_result"
    }
   ],
   "source": [
    "df['NUM_DATA_SOFFERENZA'].value_counts().sort_index()"
   ]
  },
  {
   "cell_type": "markdown",
   "metadata": {},
   "source": [
    "* There are 22 entries which shows a column NUM_DATA_SOFFERENZA == 1010;\n",
    "* This value is not a valid date and cannot be converted as such;\n",
    "\n",
    "* The 22 entries correspond to 2 CUSTOMER (ID_CUSTOMER 24709 and 23739)\n",
    "* The entries correspongind to ID_CUSTOMER 24709 and have been reported from 12-2016 to 09-2016\n",
    "* The entries correspongind to ID_CUSTOMER 23739 and have been reported from 10-2016 to 09-2016"
   ]
  },
  {
   "cell_type": "code",
   "execution_count": 11,
   "metadata": {},
   "outputs": [
    {
     "data": {
      "text/plain": [
       "(22, 9)"
      ]
     },
     "execution_count": 11,
     "metadata": {},
     "output_type": "execute_result"
    }
   ],
   "source": [
    "df.loc[df['NUM_DATA_SOFFERENZA']==1010].shape"
   ]
  },
  {
   "cell_type": "code",
   "execution_count": 12,
   "metadata": {},
   "outputs": [
    {
     "data": {
      "text/plain": [
       "(22, 9)"
      ]
     },
     "execution_count": 12,
     "metadata": {},
     "output_type": "execute_result"
    }
   ],
   "source": [
    "df.loc[df['ID_CUSTOMER'].isin([23739,24709])].shape"
   ]
  },
  {
   "cell_type": "code",
   "execution_count": 13,
   "metadata": {},
   "outputs": [
    {
     "data": {
      "text/plain": [
       "383516    2016\n",
       "Name: NUM_ANNO, dtype: int64"
      ]
     },
     "execution_count": 13,
     "metadata": {},
     "output_type": "execute_result"
    }
   ],
   "source": [
    "df.loc[df['ID_CUSTOMER']==23739, 'NUM_ANNO'][0:1]"
   ]
  },
  {
   "cell_type": "code",
   "execution_count": 14,
   "metadata": {},
   "outputs": [
    {
     "data": {
      "text/plain": [
       "6356    2016\n",
       "Name: NUM_ANNO, dtype: int64"
      ]
     },
     "execution_count": 14,
     "metadata": {},
     "output_type": "execute_result"
    }
   ],
   "source": [
    "df.loc[df['ID_CUSTOMER']==24709, 'NUM_ANNO'][0:1]"
   ]
  },
  {
   "cell_type": "markdown",
   "metadata": {},
   "source": [
    "* The dates for these ID_CUSTOMER are reported within the reference period\n",
    "* I assume the NUM_DATA_SOFFERENZA should correspond to 2016\n",
    "* I replace those values with 2016"
   ]
  },
  {
   "cell_type": "code",
   "execution_count": 15,
   "metadata": {},
   "outputs": [],
   "source": [
    "df.loc[df['NUM_DATA_SOFFERENZA']==1010, 'NUM_DATA_SOFFERENZA'] = 2016"
   ]
  },
  {
   "cell_type": "markdown",
   "metadata": {},
   "source": [
    "## Convert date in proper datetime\n",
    "\n",
    "* Convert the columns 'NUM_YYYYMM', 'NUM_ANNO' and 'NUM_DATA_SOFFERENZA' in datetime object\n",
    "* This allows later to compute difference among dates\n",
    "* By default dates are converted to the 1st of the month"
   ]
  },
  {
   "cell_type": "code",
   "execution_count": 16,
   "metadata": {},
   "outputs": [],
   "source": [
    "df['NUM_YYYYMM'] = pd.to_datetime(df['NUM_YYYYMM'], format='%Y%m')\n",
    "df['NUM_ANNO'] = pd.to_datetime(df['NUM_ANNO'].astype('int64'), format='%Y', errors='coerce')\n",
    "df['NUM_DATA_SOFFERENZA'] = pd.to_datetime(df['NUM_DATA_SOFFERENZA'].astype('int64'), format='%Y', errors='coerce')"
   ]
  },
  {
   "cell_type": "code",
   "execution_count": 17,
   "metadata": {},
   "outputs": [
    {
     "data": {
      "text/html": [
       "<div>\n",
       "<style scoped>\n",
       "    .dataframe tbody tr th:only-of-type {\n",
       "        vertical-align: middle;\n",
       "    }\n",
       "\n",
       "    .dataframe tbody tr th {\n",
       "        vertical-align: top;\n",
       "    }\n",
       "\n",
       "    .dataframe thead th {\n",
       "        text-align: right;\n",
       "    }\n",
       "</style>\n",
       "<table border=\"1\" class=\"dataframe\">\n",
       "  <thead>\n",
       "    <tr style=\"text-align: right;\">\n",
       "      <th></th>\n",
       "      <th>NUM_ANNO</th>\n",
       "      <th>NUM_YYYYMM</th>\n",
       "      <th>FILIALE</th>\n",
       "      <th>ID_CUSTOMER</th>\n",
       "      <th>NUM_DATA_SOFFERENZA</th>\n",
       "      <th>IMP_GBV</th>\n",
       "      <th>IMP_INCASSI</th>\n",
       "      <th>IMP_CUSUM_INCASSI</th>\n",
       "      <th>IMP_INCASSI_TOT</th>\n",
       "    </tr>\n",
       "  </thead>\n",
       "  <tbody>\n",
       "    <tr>\n",
       "      <th>0</th>\n",
       "      <td>2015-01-01</td>\n",
       "      <td>2015-11-01</td>\n",
       "      <td>13721</td>\n",
       "      <td>12519</td>\n",
       "      <td>2003-01-01</td>\n",
       "      <td>10187.48</td>\n",
       "      <td>0.0</td>\n",
       "      <td>0.0</td>\n",
       "      <td>0.0</td>\n",
       "    </tr>\n",
       "    <tr>\n",
       "      <th>1</th>\n",
       "      <td>2015-01-01</td>\n",
       "      <td>2015-12-01</td>\n",
       "      <td>13721</td>\n",
       "      <td>12519</td>\n",
       "      <td>2003-01-01</td>\n",
       "      <td>10223.53</td>\n",
       "      <td>0.0</td>\n",
       "      <td>0.0</td>\n",
       "      <td>0.0</td>\n",
       "    </tr>\n",
       "    <tr>\n",
       "      <th>2</th>\n",
       "      <td>2016-01-01</td>\n",
       "      <td>2016-01-01</td>\n",
       "      <td>13721</td>\n",
       "      <td>12519</td>\n",
       "      <td>2003-01-01</td>\n",
       "      <td>10257.87</td>\n",
       "      <td>0.0</td>\n",
       "      <td>0.0</td>\n",
       "      <td>0.0</td>\n",
       "    </tr>\n",
       "    <tr>\n",
       "      <th>3</th>\n",
       "      <td>2016-01-01</td>\n",
       "      <td>2016-02-01</td>\n",
       "      <td>13721</td>\n",
       "      <td>12519</td>\n",
       "      <td>2003-01-01</td>\n",
       "      <td>10289.95</td>\n",
       "      <td>0.0</td>\n",
       "      <td>0.0</td>\n",
       "      <td>0.0</td>\n",
       "    </tr>\n",
       "    <tr>\n",
       "      <th>4</th>\n",
       "      <td>2016-01-01</td>\n",
       "      <td>2016-03-01</td>\n",
       "      <td>13721</td>\n",
       "      <td>12519</td>\n",
       "      <td>2003-01-01</td>\n",
       "      <td>10324.25</td>\n",
       "      <td>0.0</td>\n",
       "      <td>0.0</td>\n",
       "      <td>0.0</td>\n",
       "    </tr>\n",
       "  </tbody>\n",
       "</table>\n",
       "</div>"
      ],
      "text/plain": [
       "    NUM_ANNO NUM_YYYYMM  FILIALE  ID_CUSTOMER NUM_DATA_SOFFERENZA   IMP_GBV  \\\n",
       "0 2015-01-01 2015-11-01    13721        12519          2003-01-01  10187.48   \n",
       "1 2015-01-01 2015-12-01    13721        12519          2003-01-01  10223.53   \n",
       "2 2016-01-01 2016-01-01    13721        12519          2003-01-01  10257.87   \n",
       "3 2016-01-01 2016-02-01    13721        12519          2003-01-01  10289.95   \n",
       "4 2016-01-01 2016-03-01    13721        12519          2003-01-01  10324.25   \n",
       "\n",
       "   IMP_INCASSI  IMP_CUSUM_INCASSI  IMP_INCASSI_TOT  \n",
       "0          0.0                0.0              0.0  \n",
       "1          0.0                0.0              0.0  \n",
       "2          0.0                0.0              0.0  \n",
       "3          0.0                0.0              0.0  \n",
       "4          0.0                0.0              0.0  "
      ]
     },
     "execution_count": 17,
     "metadata": {},
     "output_type": "execute_result"
    }
   ],
   "source": [
    "df.head()"
   ]
  },
  {
   "cell_type": "markdown",
   "metadata": {},
   "source": [
    "No more NaN in the dataset!"
   ]
  },
  {
   "cell_type": "code",
   "execution_count": 18,
   "metadata": {},
   "outputs": [
    {
     "data": {
      "text/plain": [
       "NUM_ANNO               0\n",
       "NUM_YYYYMM             0\n",
       "FILIALE                0\n",
       "ID_CUSTOMER            0\n",
       "NUM_DATA_SOFFERENZA    0\n",
       "IMP_GBV                0\n",
       "IMP_INCASSI            0\n",
       "IMP_CUSUM_INCASSI      0\n",
       "IMP_INCASSI_TOT        0\n",
       "dtype: int64"
      ]
     },
     "execution_count": 18,
     "metadata": {},
     "output_type": "execute_result"
    }
   ],
   "source": [
    "df.isnull().sum(axis = 0)"
   ]
  },
  {
   "cell_type": "markdown",
   "metadata": {},
   "source": [
    "## Dataset overview"
   ]
  },
  {
   "cell_type": "code",
   "execution_count": 19,
   "metadata": {},
   "outputs": [
    {
     "name": "stdout",
     "output_type": "stream",
     "text": [
      "Reference period from 01/2015, to 09/2017\n"
     ]
    }
   ],
   "source": [
    "print('Reference period from %s, to %s' % (\n",
    "    df['NUM_YYYYMM'].min().strftime(format='%m/%Y'),\n",
    "    df['NUM_YYYYMM'].max().strftime(format='%m/%Y')\n",
    "))"
   ]
  },
  {
   "cell_type": "code",
   "execution_count": 20,
   "metadata": {},
   "outputs": [
    {
     "name": "stdout",
     "output_type": "stream",
     "text": [
      "Number of NPL cusotmer in the reference period: 27888\n"
     ]
    }
   ],
   "source": [
    "print('Number of NPL cusotmer in the reference period: %d' % df['ID_CUSTOMER'].unique().shape)"
   ]
  },
  {
   "cell_type": "code",
   "execution_count": 21,
   "metadata": {},
   "outputs": [
    {
     "name": "stdout",
     "output_type": "stream",
     "text": [
      "Number of bank branches reporting NPL clients 3\n"
     ]
    }
   ],
   "source": [
    "print('Number of bank branches reporting NPL clients %d' % df['FILIALE'].unique().shape)"
   ]
  },
  {
   "cell_type": "markdown",
   "metadata": {},
   "source": [
    "Overall statistics on IMP_* features."
   ]
  },
  {
   "cell_type": "code",
   "execution_count": 22,
   "metadata": {},
   "outputs": [
    {
     "data": {
      "text/html": [
       "<div>\n",
       "<style scoped>\n",
       "    .dataframe tbody tr th:only-of-type {\n",
       "        vertical-align: middle;\n",
       "    }\n",
       "\n",
       "    .dataframe tbody tr th {\n",
       "        vertical-align: top;\n",
       "    }\n",
       "\n",
       "    .dataframe thead th {\n",
       "        text-align: right;\n",
       "    }\n",
       "</style>\n",
       "<table border=\"1\" class=\"dataframe\">\n",
       "  <thead>\n",
       "    <tr style=\"text-align: right;\">\n",
       "      <th></th>\n",
       "      <th>IMP_GBV</th>\n",
       "      <th>IMP_INCASSI</th>\n",
       "      <th>IMP_CUSUM_INCASSI</th>\n",
       "    </tr>\n",
       "  </thead>\n",
       "  <tbody>\n",
       "    <tr>\n",
       "      <th>count</th>\n",
       "      <td>526602.000000</td>\n",
       "      <td>526602.000000</td>\n",
       "      <td>526602.000000</td>\n",
       "    </tr>\n",
       "    <tr>\n",
       "      <th>mean</th>\n",
       "      <td>4919.219817</td>\n",
       "      <td>18.268581</td>\n",
       "      <td>144.073957</td>\n",
       "    </tr>\n",
       "    <tr>\n",
       "      <th>std</th>\n",
       "      <td>4345.697391</td>\n",
       "      <td>293.796584</td>\n",
       "      <td>847.430610</td>\n",
       "    </tr>\n",
       "    <tr>\n",
       "      <th>min</th>\n",
       "      <td>0.000000</td>\n",
       "      <td>-7494.490000</td>\n",
       "      <td>-215.610000</td>\n",
       "    </tr>\n",
       "    <tr>\n",
       "      <th>25%</th>\n",
       "      <td>1041.952500</td>\n",
       "      <td>0.000000</td>\n",
       "      <td>0.000000</td>\n",
       "    </tr>\n",
       "    <tr>\n",
       "      <th>50%</th>\n",
       "      <td>3808.220000</td>\n",
       "      <td>0.000000</td>\n",
       "      <td>0.000000</td>\n",
       "    </tr>\n",
       "    <tr>\n",
       "      <th>75%</th>\n",
       "      <td>8268.737500</td>\n",
       "      <td>0.000000</td>\n",
       "      <td>0.000000</td>\n",
       "    </tr>\n",
       "    <tr>\n",
       "      <th>max</th>\n",
       "      <td>287192.940000</td>\n",
       "      <td>20438.940000</td>\n",
       "      <td>25723.860000</td>\n",
       "    </tr>\n",
       "  </tbody>\n",
       "</table>\n",
       "</div>"
      ],
      "text/plain": [
       "             IMP_GBV    IMP_INCASSI  IMP_CUSUM_INCASSI\n",
       "count  526602.000000  526602.000000      526602.000000\n",
       "mean     4919.219817      18.268581         144.073957\n",
       "std      4345.697391     293.796584         847.430610\n",
       "min         0.000000   -7494.490000        -215.610000\n",
       "25%      1041.952500       0.000000           0.000000\n",
       "50%      3808.220000       0.000000           0.000000\n",
       "75%      8268.737500       0.000000           0.000000\n",
       "max    287192.940000   20438.940000       25723.860000"
      ]
     },
     "execution_count": 22,
     "metadata": {},
     "output_type": "execute_result"
    }
   ],
   "source": [
    "cols=['IMP_GBV','IMP_INCASSI','IMP_CUSUM_INCASSI']\n",
    "df[cols].describe()"
   ]
  },
  {
   "cell_type": "markdown",
   "metadata": {},
   "source": [
    "## Negative values on IMP_INCASSI and IMP_CUSUM_INCASSI\n",
    "\n",
    "* IMP_INCASSI column shows negative values on 59 rows\n",
    "* IMP_CUSUM_INCASSI column shows negative values on 92 rows which results from the cumulative sum over the IMP_INCASSI column.\n",
    "\n",
    "Even though negative values on those columns seem strange, they could correspond to movements from the bank back to the clients or some other internal process of the bank. It does not seems to be a problem to manage these negative values for the rest of the analysis."
   ]
  },
  {
   "cell_type": "code",
   "execution_count": 23,
   "metadata": {},
   "outputs": [
    {
     "data": {
      "text/plain": [
       "(59, 9)"
      ]
     },
     "execution_count": 23,
     "metadata": {},
     "output_type": "execute_result"
    }
   ],
   "source": [
    "df.loc[df['IMP_INCASSI'] <0].shape"
   ]
  },
  {
   "cell_type": "code",
   "execution_count": 24,
   "metadata": {},
   "outputs": [
    {
     "data": {
      "text/plain": [
       "(92, 9)"
      ]
     },
     "execution_count": 24,
     "metadata": {},
     "output_type": "execute_result"
    }
   ],
   "source": [
    "df.loc[df['IMP_CUSUM_INCASSI'] <0].shape"
   ]
  },
  {
   "cell_type": "markdown",
   "metadata": {},
   "source": [
    "## Define the total recovery rate\n",
    "\n",
    "* I define the total recovery rate of the NPL as the fraction of debt being repaied with respect to the maximum amount of debt. \n",
    "* The recovery rate is calculated monthly, but always referring to the maximum amount of the debt."
   ]
  },
  {
   "cell_type": "code",
   "execution_count": 25,
   "metadata": {},
   "outputs": [
    {
     "name": "stdout",
     "output_type": "stream",
     "text": [
      "CPU times: user 7.66 s, sys: 164 ms, total: 7.82 s\n",
      "Wall time: 8.73 s\n"
     ]
    }
   ],
   "source": [
    "%%time\n",
    "df['MAX_IMP_GBV'] = df.groupby(['ID_CUSTOMER'])['IMP_GBV'].transform(lambda x: x.max())\n",
    "# Fraction of INCASSI w.r.t GBV (recovery rate)\n",
    "df['RECOVERY_RATE_TOTAL'] = df['IMP_CUSUM_INCASSI'] / df['MAX_IMP_GBV']"
   ]
  },
  {
   "cell_type": "code",
   "execution_count": 26,
   "metadata": {},
   "outputs": [],
   "source": [
    "# The result of a division might be np.nan or np.inf\n",
    "df.replace([np.inf, -np.inf], np.nan, inplace=True)"
   ]
  },
  {
   "cell_type": "code",
   "execution_count": 27,
   "metadata": {},
   "outputs": [
    {
     "data": {
      "text/plain": [
       "NUM_ANNO                 0\n",
       "NUM_YYYYMM               0\n",
       "FILIALE                  0\n",
       "ID_CUSTOMER              0\n",
       "NUM_DATA_SOFFERENZA      0\n",
       "IMP_GBV                  0\n",
       "IMP_INCASSI              0\n",
       "IMP_CUSUM_INCASSI        0\n",
       "IMP_INCASSI_TOT          0\n",
       "MAX_IMP_GBV              0\n",
       "RECOVERY_RATE_TOTAL    678\n",
       "dtype: int64"
      ]
     },
     "execution_count": 27,
     "metadata": {},
     "output_type": "execute_result"
    }
   ],
   "source": [
    "df.isnull().sum(axis = 0)"
   ]
  },
  {
   "cell_type": "markdown",
   "metadata": {},
   "source": [
    "* There are 678 entry for which the maximum debt amount ever reported is zero.\n",
    "* These entry might represent NPL that have been subjected to some internal bank procedure.\n",
    "* There is no much I can do with these NPL to verify the reson behind the null value of the debt\n",
    "* I think it is safer to remove them from the sample."
   ]
  },
  {
   "cell_type": "code",
   "execution_count": 28,
   "metadata": {},
   "outputs": [],
   "source": [
    "df.dropna(inplace=True)"
   ]
  },
  {
   "cell_type": "markdown",
   "metadata": {},
   "source": [
    "## Define the Age of the NPL\n",
    "* Another important feature to define is the age of the NPL.\n",
    "* The age of the NPL represent the number of months since the NPL was first reported.\n",
    "* Defined as the incremental number of months since min(NUM_YYYYMM, NUM_DATA_SOFFERENZA)"
   ]
  },
  {
   "cell_type": "code",
   "execution_count": 29,
   "metadata": {},
   "outputs": [
    {
     "name": "stdout",
     "output_type": "stream",
     "text": [
      "CPU times: user 58.1 s, sys: 620 ms, total: 58.7 s\n",
      "Wall time: 1min\n"
     ]
    }
   ],
   "source": [
    "%%time\n",
    "tmp=df.groupby(['ID_CUSTOMER']).apply(\n",
    "    lambda x: (\n",
    "        (x['NUM_YYYYMM'] - x[['NUM_YYYYMM','NUM_DATA_SOFFERENZA']].min(axis=1)) / np.timedelta64(1, 'M')\n",
    "    ).astype('int64')\n",
    "        ).to_frame('NUM_MONTHS_SOFFERENZA').reset_index(-2).drop(columns='ID_CUSTOMER')\n",
    "\n",
    "df['NUM_MONTHS_SOFFERENZA']=tmp"
   ]
  },
  {
   "cell_type": "markdown",
   "metadata": {},
   "source": [
    "## NPL with IMP_GBV == 0\n",
    "\n",
    "I have noticed that the Gross Book Value of the debt reported in the column 'IMP_GBV' can:\n",
    "* Remain constant: the debt does not change in the reference period;\n",
    "* Increase: some due amount is not paied or some interests cumulate;\n",
    "* Decrease: part of the debt is repaied or some internal processing is performed;\n",
    "* Go to zero: the debt is completely repaied or it is removed from the books;\n",
    "\n",
    "I perform the following assumption:\n",
    "1. When a movement in the debt is due to the customer performing some paiement, I assume the paied amount is reported in the column 'IMP_INCASSI';\n",
    "2. When the cumulative amount of the sum paied by the customer equals the debt, I assume the debt is fully repaied;\n",
    "3. When the amount of the debt go to zero, but the cumulative amount of the sum paied by the customer does not equal the debt, I assume the debt is removed from the books;\n",
    "\n",
    "An intersting observation in support of the assumption that debt are removed from the books comes by looking at the total number of *Zeroed-NPL* (IMP_GBV==0) per months:"
   ]
  },
  {
   "cell_type": "code",
   "execution_count": 30,
   "metadata": {},
   "outputs": [
    {
     "data": {
      "image/png": "[encoded data removed]",
      "text/plain": [
       "<matplotlib.figure.Figure at 0x1104fb5c0>"
      ]
     },
     "metadata": {},
     "output_type": "display_data"
    }
   ],
   "source": [
    "tmp=pd.concat([\n",
    "    df.loc[(df['IMP_GBV']==0)].groupby(['ID_CUSTOMER']).first().groupby(['NUM_YYYYMM']).size().to_frame('IMP_GBV_ZERO')\n",
    "    ,df.loc[(df['IMP_GBV']==0)&(df['RECOVERY_RATE_TOTAL']>0)].groupby(['ID_CUSTOMER']).first().groupby(['NUM_YYYYMM']).size().to_frame('IMP_GBV_ZERO_AND_INCASSI')\n",
    "    ,df.loc[(df['IMP_GBV']==0)&(df['RECOVERY_RATE_TOTAL']==0)].groupby(['ID_CUSTOMER']).first().groupby(['NUM_YYYYMM']).size().to_frame('IMP_GBV_ZERO_NO_INCASSI')\n",
    "], axis=1)\n",
    "\n",
    "tmp=tmp.resample('Q').sum()\n",
    "tmp[['IMP_GBV_ZERO_AND_INCASSI','IMP_GBV_ZERO_NO_INCASSI']].plot.line(figsize=(10,5))\n",
    "tmp['IMP_GBV_ZERO'].plot(legend=True)\n",
    "plt.xlabel('')\n",
    "plt.ylabel('Number of zeroed NPL')\n",
    "plt.show()"
   ]
  },
  {
   "cell_type": "markdown",
   "metadata": {},
   "source": [
    "The plot show the number of *Zeroed-NPL* (IMP_GBV == 0) per quarter in the reference period:\n",
    "* <font color='blue'>**Blue**</font>: IMP_GBV = 0 & IMP_CUSUM_INCASSI > 0 (at least one paiement)\n",
    "* <font color='orange'>**Orange**</font>: IMP_GBV = 0 & IMP_CUSUM_INCASSI ==0 (no paiment received)\n",
    "* <font color='green'>**Green**</font>: IMP_GBV = 0\n",
    "\n",
    "Two considerations should be made:\n",
    "1. Most of the *Zeroed-NPL* does not have any associated paiement\n",
    "2. The peaks in the distribution suggest that some actions are taken simultaneously on a big number of NPL, in particular in the last quarter of 2016.\n",
    "\n",
    "My guess is that these peaks represent action taken by NPL portfolio managers to reduce their NPE as indicated by the ECB.\n",
    "\n",
    "I have also noticed that most of the *Zeroed-NPL*, once removed from the book, are being reported till the end of the year."
   ]
  },
  {
   "cell_type": "markdown",
   "metadata": {},
   "source": [
    "# Make some aggregates"
   ]
  },
  {
   "cell_type": "code",
   "execution_count": 31,
   "metadata": {},
   "outputs": [],
   "source": [
    "agg = df.groupby(['NUM_YYYYMM']).agg({\n",
    "    'ID_CUSTOMER': 'size',\n",
    "    'IMP_GBV' : 'sum',\n",
    "    'IMP_INCASSI' : 'sum'\n",
    "}).resample('Q').agg({\n",
    "    'ID_CUSTOMER': 'last',\n",
    "    'IMP_GBV' : 'last',\n",
    "    'IMP_INCASSI' : 'sum'\n",
    "})\n",
    "\n",
    "agg['RECOVERY_RATE'] = agg['IMP_INCASSI'] / agg['IMP_GBV']\n",
    "\n",
    "# Values of debt taken off the book\n",
    "otb = df.loc[(df['IMP_GBV']==0)].groupby(['ID_CUSTOMER']).first()\n",
    "otb = otb.groupby(['NUM_YYYYMM'])['MAX_IMP_GBV'].sum().resample('Q').sum()\n",
    "otb=otb.to_frame('IMP_OTB')\n",
    "\n",
    "agg=pd.concat([agg,otb], axis=1)"
   ]
  },
  {
   "cell_type": "code",
   "execution_count": 32,
   "metadata": {},
   "outputs": [
    {
     "data": {
      "text/html": [
       "<div>\n",
       "<style scoped>\n",
       "    .dataframe tbody tr th:only-of-type {\n",
       "        vertical-align: middle;\n",
       "    }\n",
       "\n",
       "    .dataframe tbody tr th {\n",
       "        vertical-align: top;\n",
       "    }\n",
       "\n",
       "    .dataframe thead th {\n",
       "        text-align: right;\n",
       "    }\n",
       "</style>\n",
       "<table border=\"1\" class=\"dataframe\">\n",
       "  <thead>\n",
       "    <tr style=\"text-align: right;\">\n",
       "      <th></th>\n",
       "      <th>ID_CUSTOMER</th>\n",
       "      <th>IMP_GBV</th>\n",
       "      <th>IMP_INCASSI</th>\n",
       "      <th>RECOVERY_RATE</th>\n",
       "      <th>IMP_OTB</th>\n",
       "    </tr>\n",
       "    <tr>\n",
       "      <th>NUM_YYYYMM</th>\n",
       "      <th></th>\n",
       "      <th></th>\n",
       "      <th></th>\n",
       "      <th></th>\n",
       "      <th></th>\n",
       "    </tr>\n",
       "  </thead>\n",
       "  <tbody>\n",
       "    <tr>\n",
       "      <th>2015-03-31</th>\n",
       "      <td>5320</td>\n",
       "      <td>1.179829e+07</td>\n",
       "      <td>0.00</td>\n",
       "      <td>0.000000</td>\n",
       "      <td>45146.00</td>\n",
       "    </tr>\n",
       "    <tr>\n",
       "      <th>2015-06-30</th>\n",
       "      <td>6138</td>\n",
       "      <td>1.674996e+07</td>\n",
       "      <td>0.00</td>\n",
       "      <td>0.000000</td>\n",
       "      <td>185331.41</td>\n",
       "    </tr>\n",
       "    <tr>\n",
       "      <th>2015-09-30</th>\n",
       "      <td>10334</td>\n",
       "      <td>4.318618e+07</td>\n",
       "      <td>0.00</td>\n",
       "      <td>0.000000</td>\n",
       "      <td>350613.40</td>\n",
       "    </tr>\n",
       "    <tr>\n",
       "      <th>2015-12-31</th>\n",
       "      <td>16137</td>\n",
       "      <td>7.854566e+07</td>\n",
       "      <td>0.00</td>\n",
       "      <td>0.000000</td>\n",
       "      <td>1538736.31</td>\n",
       "    </tr>\n",
       "    <tr>\n",
       "      <th>2016-03-31</th>\n",
       "      <td>18851</td>\n",
       "      <td>9.683333e+07</td>\n",
       "      <td>870702.66</td>\n",
       "      <td>0.008992</td>\n",
       "      <td>2756781.35</td>\n",
       "    </tr>\n",
       "    <tr>\n",
       "      <th>2016-06-30</th>\n",
       "      <td>20478</td>\n",
       "      <td>1.028665e+08</td>\n",
       "      <td>1440563.02</td>\n",
       "      <td>0.014004</td>\n",
       "      <td>2408989.45</td>\n",
       "    </tr>\n",
       "    <tr>\n",
       "      <th>2016-09-30</th>\n",
       "      <td>21595</td>\n",
       "      <td>1.057922e+08</td>\n",
       "      <td>1135903.10</td>\n",
       "      <td>0.010737</td>\n",
       "      <td>1943427.40</td>\n",
       "    </tr>\n",
       "    <tr>\n",
       "      <th>2016-12-31</th>\n",
       "      <td>23428</td>\n",
       "      <td>1.061451e+08</td>\n",
       "      <td>968140.13</td>\n",
       "      <td>0.009121</td>\n",
       "      <td>11809575.59</td>\n",
       "    </tr>\n",
       "    <tr>\n",
       "      <th>2017-03-31</th>\n",
       "      <td>19304</td>\n",
       "      <td>1.099512e+08</td>\n",
       "      <td>1419641.89</td>\n",
       "      <td>0.012912</td>\n",
       "      <td>1088644.16</td>\n",
       "    </tr>\n",
       "    <tr>\n",
       "      <th>2017-06-30</th>\n",
       "      <td>20228</td>\n",
       "      <td>1.109689e+08</td>\n",
       "      <td>2300636.29</td>\n",
       "      <td>0.020732</td>\n",
       "      <td>6800407.57</td>\n",
       "    </tr>\n",
       "    <tr>\n",
       "      <th>2017-09-30</th>\n",
       "      <td>20984</td>\n",
       "      <td>1.138687e+08</td>\n",
       "      <td>1456895.09</td>\n",
       "      <td>0.012795</td>\n",
       "      <td>1351487.08</td>\n",
       "    </tr>\n",
       "  </tbody>\n",
       "</table>\n",
       "</div>"
      ],
      "text/plain": [
       "            ID_CUSTOMER       IMP_GBV  IMP_INCASSI  RECOVERY_RATE      IMP_OTB\n",
       "NUM_YYYYMM                                                                    \n",
       "2015-03-31         5320  1.179829e+07         0.00       0.000000     45146.00\n",
       "2015-06-30         6138  1.674996e+07         0.00       0.000000    185331.41\n",
       "2015-09-30        10334  4.318618e+07         0.00       0.000000    350613.40\n",
       "2015-12-31        16137  7.854566e+07         0.00       0.000000   1538736.31\n",
       "2016-03-31        18851  9.683333e+07    870702.66       0.008992   2756781.35\n",
       "2016-06-30        20478  1.028665e+08   1440563.02       0.014004   2408989.45\n",
       "2016-09-30        21595  1.057922e+08   1135903.10       0.010737   1943427.40\n",
       "2016-12-31        23428  1.061451e+08    968140.13       0.009121  11809575.59\n",
       "2017-03-31        19304  1.099512e+08   1419641.89       0.012912   1088644.16\n",
       "2017-06-30        20228  1.109689e+08   2300636.29       0.020732   6800407.57\n",
       "2017-09-30        20984  1.138687e+08   1456895.09       0.012795   1351487.08"
      ]
     },
     "execution_count": 32,
     "metadata": {},
     "output_type": "execute_result"
    }
   ],
   "source": [
    "# Quarterly\n",
    "agg"
   ]
  },
  {
   "cell_type": "code",
   "execution_count": 33,
   "metadata": {},
   "outputs": [
    {
     "data": {
      "text/html": [
       "<div>\n",
       "<style scoped>\n",
       "    .dataframe tbody tr th:only-of-type {\n",
       "        vertical-align: middle;\n",
       "    }\n",
       "\n",
       "    .dataframe tbody tr th {\n",
       "        vertical-align: top;\n",
       "    }\n",
       "\n",
       "    .dataframe thead th {\n",
       "        text-align: right;\n",
       "    }\n",
       "</style>\n",
       "<table border=\"1\" class=\"dataframe\">\n",
       "  <thead>\n",
       "    <tr style=\"text-align: right;\">\n",
       "      <th></th>\n",
       "      <th>ID_CUSTOMER</th>\n",
       "      <th>IMP_GBV</th>\n",
       "      <th>IMP_INCASSI</th>\n",
       "      <th>RECOVERY_RATE</th>\n",
       "      <th>IMP_OTB</th>\n",
       "    </tr>\n",
       "    <tr>\n",
       "      <th>NUM_YYYYMM</th>\n",
       "      <th></th>\n",
       "      <th></th>\n",
       "      <th></th>\n",
       "      <th></th>\n",
       "      <th></th>\n",
       "    </tr>\n",
       "  </thead>\n",
       "  <tbody>\n",
       "    <tr>\n",
       "      <th>2015-03-31</th>\n",
       "      <td>NaN</td>\n",
       "      <td>NaN</td>\n",
       "      <td>NaN</td>\n",
       "      <td>NaN</td>\n",
       "      <td>NaN</td>\n",
       "    </tr>\n",
       "    <tr>\n",
       "      <th>2015-06-30</th>\n",
       "      <td>0.153759</td>\n",
       "      <td>0.419694</td>\n",
       "      <td>NaN</td>\n",
       "      <td>NaN</td>\n",
       "      <td>3.105157</td>\n",
       "    </tr>\n",
       "    <tr>\n",
       "      <th>2015-09-30</th>\n",
       "      <td>0.683610</td>\n",
       "      <td>1.578285</td>\n",
       "      <td>NaN</td>\n",
       "      <td>NaN</td>\n",
       "      <td>0.891819</td>\n",
       "    </tr>\n",
       "    <tr>\n",
       "      <th>2015-12-31</th>\n",
       "      <td>0.561544</td>\n",
       "      <td>0.818769</td>\n",
       "      <td>NaN</td>\n",
       "      <td>NaN</td>\n",
       "      <td>3.388698</td>\n",
       "    </tr>\n",
       "    <tr>\n",
       "      <th>2016-03-31</th>\n",
       "      <td>0.168185</td>\n",
       "      <td>0.232828</td>\n",
       "      <td>inf</td>\n",
       "      <td>inf</td>\n",
       "      <td>0.791588</td>\n",
       "    </tr>\n",
       "    <tr>\n",
       "      <th>2016-06-30</th>\n",
       "      <td>0.086308</td>\n",
       "      <td>0.062305</td>\n",
       "      <td>0.654483</td>\n",
       "      <td>0.557447</td>\n",
       "      <td>-0.126159</td>\n",
       "    </tr>\n",
       "    <tr>\n",
       "      <th>2016-09-30</th>\n",
       "      <td>0.054546</td>\n",
       "      <td>0.028441</td>\n",
       "      <td>-0.211487</td>\n",
       "      <td>-0.233293</td>\n",
       "      <td>-0.193260</td>\n",
       "    </tr>\n",
       "    <tr>\n",
       "      <th>2016-12-31</th>\n",
       "      <td>0.084881</td>\n",
       "      <td>0.003336</td>\n",
       "      <td>-0.147691</td>\n",
       "      <td>-0.150525</td>\n",
       "      <td>5.076674</td>\n",
       "    </tr>\n",
       "    <tr>\n",
       "      <th>2017-03-31</th>\n",
       "      <td>-0.176029</td>\n",
       "      <td>0.035857</td>\n",
       "      <td>0.466360</td>\n",
       "      <td>0.415600</td>\n",
       "      <td>-0.907817</td>\n",
       "    </tr>\n",
       "    <tr>\n",
       "      <th>2017-06-30</th>\n",
       "      <td>0.047866</td>\n",
       "      <td>0.009256</td>\n",
       "      <td>0.620575</td>\n",
       "      <td>0.605713</td>\n",
       "      <td>5.246676</td>\n",
       "    </tr>\n",
       "    <tr>\n",
       "      <th>2017-09-30</th>\n",
       "      <td>0.037374</td>\n",
       "      <td>0.026132</td>\n",
       "      <td>-0.366743</td>\n",
       "      <td>-0.382869</td>\n",
       "      <td>-0.801264</td>\n",
       "    </tr>\n",
       "  </tbody>\n",
       "</table>\n",
       "</div>"
      ],
      "text/plain": [
       "            ID_CUSTOMER   IMP_GBV  IMP_INCASSI  RECOVERY_RATE   IMP_OTB\n",
       "NUM_YYYYMM                                                             \n",
       "2015-03-31          NaN       NaN          NaN            NaN       NaN\n",
       "2015-06-30     0.153759  0.419694          NaN            NaN  3.105157\n",
       "2015-09-30     0.683610  1.578285          NaN            NaN  0.891819\n",
       "2015-12-31     0.561544  0.818769          NaN            NaN  3.388698\n",
       "2016-03-31     0.168185  0.232828          inf            inf  0.791588\n",
       "2016-06-30     0.086308  0.062305     0.654483       0.557447 -0.126159\n",
       "2016-09-30     0.054546  0.028441    -0.211487      -0.233293 -0.193260\n",
       "2016-12-31     0.084881  0.003336    -0.147691      -0.150525  5.076674\n",
       "2017-03-31    -0.176029  0.035857     0.466360       0.415600 -0.907817\n",
       "2017-06-30     0.047866  0.009256     0.620575       0.605713  5.246676\n",
       "2017-09-30     0.037374  0.026132    -0.366743      -0.382869 -0.801264"
      ]
     },
     "execution_count": 33,
     "metadata": {},
     "output_type": "execute_result"
    }
   ],
   "source": [
    "# Quarterly\n",
    "agg.pct_change()"
   ]
  },
  {
   "cell_type": "code",
   "execution_count": 34,
   "metadata": {},
   "outputs": [
    {
     "data": {
      "text/html": [
       "<div>\n",
       "<style scoped>\n",
       "    .dataframe tbody tr th:only-of-type {\n",
       "        vertical-align: middle;\n",
       "    }\n",
       "\n",
       "    .dataframe tbody tr th {\n",
       "        vertical-align: top;\n",
       "    }\n",
       "\n",
       "    .dataframe thead th {\n",
       "        text-align: right;\n",
       "    }\n",
       "</style>\n",
       "<table border=\"1\" class=\"dataframe\">\n",
       "  <thead>\n",
       "    <tr style=\"text-align: right;\">\n",
       "      <th></th>\n",
       "      <th>ID_CUSTOMER</th>\n",
       "      <th>IMP_GBV</th>\n",
       "      <th>IMP_INCASSI</th>\n",
       "      <th>IMP_OTB</th>\n",
       "    </tr>\n",
       "    <tr>\n",
       "      <th>NUM_YYYYMM</th>\n",
       "      <th></th>\n",
       "      <th></th>\n",
       "      <th></th>\n",
       "      <th></th>\n",
       "    </tr>\n",
       "  </thead>\n",
       "  <tbody>\n",
       "    <tr>\n",
       "      <th>2015-12-31</th>\n",
       "      <td>16137</td>\n",
       "      <td>7.854566e+07</td>\n",
       "      <td>0.00</td>\n",
       "      <td>2119827.12</td>\n",
       "    </tr>\n",
       "    <tr>\n",
       "      <th>2016-12-31</th>\n",
       "      <td>23428</td>\n",
       "      <td>1.061451e+08</td>\n",
       "      <td>4415308.91</td>\n",
       "      <td>18918773.79</td>\n",
       "    </tr>\n",
       "    <tr>\n",
       "      <th>2017-12-31</th>\n",
       "      <td>20984</td>\n",
       "      <td>1.138687e+08</td>\n",
       "      <td>5177173.27</td>\n",
       "      <td>9240538.81</td>\n",
       "    </tr>\n",
       "  </tbody>\n",
       "</table>\n",
       "</div>"
      ],
      "text/plain": [
       "            ID_CUSTOMER       IMP_GBV  IMP_INCASSI      IMP_OTB\n",
       "NUM_YYYYMM                                                     \n",
       "2015-12-31        16137  7.854566e+07         0.00   2119827.12\n",
       "2016-12-31        23428  1.061451e+08   4415308.91  18918773.79\n",
       "2017-12-31        20984  1.138687e+08   5177173.27   9240538.81"
      ]
     },
     "metadata": {},
     "output_type": "display_data"
    }
   ],
   "source": [
    "# yearly\n",
    "aggy=agg.resample('Y').agg({\n",
    "    'ID_CUSTOMER': 'last',\n",
    "    'IMP_GBV' : 'last',\n",
    "    'IMP_INCASSI' : 'sum',\n",
    "    'IMP_OTB': 'sum'\n",
    "})\n",
    "\n",
    "display(aggy)"
   ]
  },
  {
   "cell_type": "code",
   "execution_count": 35,
   "metadata": {},
   "outputs": [
    {
     "data": {
      "text/html": [
       "<div>\n",
       "<style scoped>\n",
       "    .dataframe tbody tr th:only-of-type {\n",
       "        vertical-align: middle;\n",
       "    }\n",
       "\n",
       "    .dataframe tbody tr th {\n",
       "        vertical-align: top;\n",
       "    }\n",
       "\n",
       "    .dataframe thead th {\n",
       "        text-align: right;\n",
       "    }\n",
       "</style>\n",
       "<table border=\"1\" class=\"dataframe\">\n",
       "  <thead>\n",
       "    <tr style=\"text-align: right;\">\n",
       "      <th></th>\n",
       "      <th>ID_CUSTOMER</th>\n",
       "      <th>IMP_GBV</th>\n",
       "      <th>IMP_INCASSI</th>\n",
       "      <th>IMP_OTB</th>\n",
       "    </tr>\n",
       "    <tr>\n",
       "      <th>NUM_YYYYMM</th>\n",
       "      <th></th>\n",
       "      <th></th>\n",
       "      <th></th>\n",
       "      <th></th>\n",
       "    </tr>\n",
       "  </thead>\n",
       "  <tbody>\n",
       "    <tr>\n",
       "      <th>2015-12-31</th>\n",
       "      <td>NaN</td>\n",
       "      <td>NaN</td>\n",
       "      <td>NaN</td>\n",
       "      <td>NaN</td>\n",
       "    </tr>\n",
       "    <tr>\n",
       "      <th>2016-12-31</th>\n",
       "      <td>0.451819</td>\n",
       "      <td>0.351381</td>\n",
       "      <td>inf</td>\n",
       "      <td>7.924678</td>\n",
       "    </tr>\n",
       "    <tr>\n",
       "      <th>2017-12-31</th>\n",
       "      <td>-0.104320</td>\n",
       "      <td>0.072764</td>\n",
       "      <td>0.172551</td>\n",
       "      <td>-0.511568</td>\n",
       "    </tr>\n",
       "  </tbody>\n",
       "</table>\n",
       "</div>"
      ],
      "text/plain": [
       "            ID_CUSTOMER   IMP_GBV  IMP_INCASSI   IMP_OTB\n",
       "NUM_YYYYMM                                              \n",
       "2015-12-31          NaN       NaN          NaN       NaN\n",
       "2016-12-31     0.451819  0.351381          inf  7.924678\n",
       "2017-12-31    -0.104320  0.072764     0.172551 -0.511568"
      ]
     },
     "execution_count": 35,
     "metadata": {},
     "output_type": "execute_result"
    }
   ],
   "source": [
    "aggy.pct_change()"
   ]
  },
  {
   "cell_type": "code",
   "execution_count": 36,
   "metadata": {},
   "outputs": [
    {
     "data": {
      "text/html": [
       "<div>\n",
       "<style scoped>\n",
       "    .dataframe tbody tr th:only-of-type {\n",
       "        vertical-align: middle;\n",
       "    }\n",
       "\n",
       "    .dataframe tbody tr th {\n",
       "        vertical-align: top;\n",
       "    }\n",
       "\n",
       "    .dataframe thead th {\n",
       "        text-align: right;\n",
       "    }\n",
       "</style>\n",
       "<table border=\"1\" class=\"dataframe\">\n",
       "  <thead>\n",
       "    <tr style=\"text-align: right;\">\n",
       "      <th></th>\n",
       "      <th>IMP_INCASSI</th>\n",
       "      <th>IMP_OTB</th>\n",
       "    </tr>\n",
       "    <tr>\n",
       "      <th>NUM_YYYYMM</th>\n",
       "      <th></th>\n",
       "      <th></th>\n",
       "    </tr>\n",
       "  </thead>\n",
       "  <tbody>\n",
       "    <tr>\n",
       "      <th>2015-12-31</th>\n",
       "      <td>0.000000</td>\n",
       "      <td>0.026988</td>\n",
       "    </tr>\n",
       "    <tr>\n",
       "      <th>2016-12-31</th>\n",
       "      <td>0.041597</td>\n",
       "      <td>0.178235</td>\n",
       "    </tr>\n",
       "    <tr>\n",
       "      <th>2017-12-31</th>\n",
       "      <td>0.045466</td>\n",
       "      <td>0.081151</td>\n",
       "    </tr>\n",
       "  </tbody>\n",
       "</table>\n",
       "</div>"
      ],
      "text/plain": [
       "            IMP_INCASSI   IMP_OTB\n",
       "NUM_YYYYMM                       \n",
       "2015-12-31     0.000000  0.026988\n",
       "2016-12-31     0.041597  0.178235\n",
       "2017-12-31     0.045466  0.081151"
      ]
     },
     "execution_count": 36,
     "metadata": {},
     "output_type": "execute_result"
    }
   ],
   "source": [
    "aggy.divide(aggy['IMP_GBV'], axis=0)[['IMP_INCASSI', 'IMP_OTB']]"
   ]
  },
  {
   "cell_type": "markdown",
   "metadata": {},
   "source": [
    "## Number of NPL per quarter"
   ]
  },
  {
   "cell_type": "code",
   "execution_count": 37,
   "metadata": {},
   "outputs": [
    {
     "data": {
      "image/png": "[encoded data removed]",
      "text/plain": [
       "<matplotlib.figure.Figure at 0x115598f60>"
      ]
     },
     "metadata": {},
     "output_type": "display_data"
    }
   ],
   "source": [
    "agg['ID_CUSTOMER'].plot(title='Number of NPL per reference quarter', color='C0', marker='o', grid=True, figsize=(7,5))\n",
    "plt.xlabel('')\n",
    "plt.ylabel('Number of NPL')\n",
    "plt.savefig('pictures/num_npl_quarter.png', bbox_inches='tight')\n",
    "plt.show()"
   ]
  },
  {
   "cell_type": "markdown",
   "metadata": {},
   "source": [
    "It is important to notice:\n",
    "* An increase of the number of NPL from the second half of 2015\n",
    "* Q1-2017 see a 16% reduction of NPL, this drop is related to the NPLs taken off the book on Q4-2016"
   ]
  },
  {
   "cell_type": "markdown",
   "metadata": {},
   "source": [
    "## Volume of NPL debt per reference quarter"
   ]
  },
  {
   "cell_type": "code",
   "execution_count": 38,
   "metadata": {},
   "outputs": [
    {
     "data": {
      "image/png": "[encoded data removed]",
      "text/plain": [
       "<matplotlib.figure.Figure at 0x1155ba588>"
      ]
     },
     "metadata": {},
     "output_type": "display_data"
    }
   ],
   "source": [
    "agg['IMP_GBV'].plot(title='NPL volume per quarter', color='C0', marker='o',grid=True, figsize=(7,5))\n",
    "plt.xlabel('')\n",
    "plt.ylabel('NPL volume')\n",
    "plt.savefig('pictures/vol_npl_quarter.png', bbox_inches='tight')\n",
    "plt.show()"
   ]
  },
  {
   "cell_type": "markdown",
   "metadata": {},
   "source": [
    "It is important to notice:\n",
    "* From the Q1-2016 the volume of NPL debt cumulated slowed down;\n",
    "* Is this the effect of the action taken to reduce the NPE?"
   ]
  },
  {
   "cell_type": "markdown",
   "metadata": {},
   "source": [
    "## Off-the-book NPL debt volume per reference quarter"
   ]
  },
  {
   "cell_type": "code",
   "execution_count": 39,
   "metadata": {},
   "outputs": [
    {
     "data": {
      "image/png": "[encoded data removed]",
      "text/plain": [
       "<matplotlib.figure.Figure at 0x11655a320>"
      ]
     },
     "metadata": {},
     "output_type": "display_data"
    }
   ],
   "source": [
    "agg['IMP_OTB'].plot(title='Off-the-book NPL volume per quarter', color='C0', marker='o', grid=True, figsize=(7,5))\n",
    "plt.xlabel('')\n",
    "plt.ylabel('Off-the-book NPL volume')\n",
    "plt.savefig('pictures/vol_otb_quarter.png', bbox_inches='tight')\n",
    "plt.show()"
   ]
  },
  {
   "cell_type": "markdown",
   "metadata": {},
   "source": [
    "It is important to notice:\n",
    "* There are two sharp peaks in Q4-2016 and Q2-2017;\n",
    "\n",
    "This plot corroborate the hypotesis that *Zeroed-NPL* are NPL that get removed from the book to reduce bank's NPE."
   ]
  },
  {
   "cell_type": "markdown",
   "metadata": {},
   "source": [
    "## Volume of INCASSI per quarter"
   ]
  },
  {
   "cell_type": "code",
   "execution_count": 40,
   "metadata": {},
   "outputs": [
    {
     "data": {
      "image/png": "[encoded data removed]",
      "text/plain": [
       "<matplotlib.figure.Figure at 0x1156143c8>"
      ]
     },
     "metadata": {},
     "output_type": "display_data"
    }
   ],
   "source": [
    "agg['IMP_INCASSI'].plot(title='Volume of INCASSI per quarter', color='C0', marker='o', grid=True, figsize=(7,5))\n",
    "plt.xlabel('')\n",
    "plt.ylabel('Volume of INCASSI')\n",
    "plt.savefig('pictures/vol_incassi_quarter.png', bbox_inches='tight')\n",
    "\n",
    "plt.show()"
   ]
  },
  {
   "cell_type": "markdown",
   "metadata": {},
   "source": [
    "It is important to notice:\n",
    "* The volume of INCASSI increased steadly up to Q2-2016;\n",
    "* From Q2-2016 to Q4-2017 there is a reduction of INCASSI which coincide with the increase of NPL taken off-the book;\n",
    "* This suggest that the action to reduce NPE taken between Q1-2016 and Q3-2016 also reduced the recovery rate in the same period;\n",
    "* On the other hand, a second action in Q2-2017 did not reduce the recovery rate. What has changed?"
   ]
  },
  {
   "cell_type": "markdown",
   "metadata": {},
   "source": [
    "## Recovery rate per quarter"
   ]
  },
  {
   "cell_type": "code",
   "execution_count": 41,
   "metadata": {},
   "outputs": [
    {
     "data": {
      "image/png": "[encoded data removed]",
      "text/plain": [
       "<matplotlib.figure.Figure at 0x110501668>"
      ]
     },
     "metadata": {},
     "output_type": "display_data"
    }
   ],
   "source": [
    "agg['RECOVERY_RATE'].plot(title='Recovery rate per quarter', color='C0', marker='o', grid=True, figsize=(7,5))\n",
    "plt.xlabel('')\n",
    "plt.ylabel('Recovery rate')\n",
    "plt.savefig('pictures/recovery_rate_quarter.png', bbox_inches='tight')\n",
    "plt.show()"
   ]
  },
  {
   "cell_type": "markdown",
   "metadata": {},
   "source": [
    "#### It is important to notice:\n",
    "* The recovery rate increased steadily from Q4-2015;\n",
    "* The action taken in Q4-2016 to reduce the NPE have also reduced the recovery rate by more than 30%;\n",
    "* The recovery rate restart growing from Q1-2017;"
   ]
  },
  {
   "cell_type": "markdown",
   "metadata": {},
   "source": [
    "# NPL age distribution"
   ]
  },
  {
   "cell_type": "code",
   "execution_count": 42,
   "metadata": {},
   "outputs": [],
   "source": [
    "tmp=df.groupby(['ID_CUSTOMER'])[['NUM_DATA_SOFFERENZA','IMP_GBV','IMP_INCASSI_TOT','NUM_MONTHS_SOFFERENZA']].last()"
   ]
  },
  {
   "cell_type": "code",
   "execution_count": 43,
   "metadata": {},
   "outputs": [
    {
     "data": {
      "image/png": "[encoded data removed]",
      "text/plain": [
       "<matplotlib.figure.Figure at 0x1161ca5c0>"
      ]
     },
     "metadata": {},
     "output_type": "display_data"
    }
   ],
   "source": [
    "plt.figure(figsize=(7,5))\n",
    "sns.distplot(tmp['NUM_MONTHS_SOFFERENZA'])\n",
    "plt.grid(True)\n",
    "plt.title('NPL age distribution')\n",
    "plt.xlabel('NPL Age')\n",
    "plt.ylabel('Frequency')\n",
    "plt.savefig('pictures/age_npl_distribution.png', bbox_inches='tight')\n",
    "plt.show()"
   ]
  },
  {
   "cell_type": "markdown",
   "metadata": {},
   "source": [
    "The NPL age shows a clear bi-modal distribution, i.e. the data contain two populations:\n",
    "* The first poulation of NPL is repaied within about 15 - 20 months\n",
    "* The second population of NPL is repaied within about 100 months (~10 year)\n",
    "\n",
    "The first population it is due to NPL reported within in the period of reference (2015, 2017), while the second population is dominated by old NPL.\n",
    "\n",
    "Let'us look at the two populations:"
   ]
  },
  {
   "cell_type": "code",
   "execution_count": 44,
   "metadata": {},
   "outputs": [
    {
     "data": {
      "image/png": "[encoded data removed]",
      "text/plain": [
       "<matplotlib.figure.Figure at 0x10f2b98d0>"
      ]
     },
     "metadata": {},
     "output_type": "display_data"
    }
   ],
   "source": [
    "_, ax = plt.subplots(1,2, figsize=(14,5))\n",
    "ax1=sns.distplot(tmp.loc[(tmp['NUM_DATA_SOFFERENZA'].dt.year>=2015),'NUM_MONTHS_SOFFERENZA'], ax=ax[0], color='C1')\n",
    "ax1.grid(True)\n",
    "ax1.set_xlabel('NPL Age')\n",
    "ax1.set_ylabel('Frequency')\n",
    "ax1.set_title('Recent NPL (NUM_DATA_SOFFERENZA >= 2015)')\n",
    "\n",
    "ax2=sns.distplot(tmp.loc[(tmp['NUM_DATA_SOFFERENZA'].dt.year<2015),'NUM_MONTHS_SOFFERENZA'], ax=ax[1], color='C2')\n",
    "ax2.grid(True)\n",
    "ax2.set_xlabel('NPL Age')\n",
    "ax2.set_title('Old NPL (NUM_DATA_SOFFERENZA < 2015)')\n",
    "\n",
    "plt.show()"
   ]
  },
  {
   "cell_type": "markdown",
   "metadata": {},
   "source": [
    "It is important to notice: \n",
    "* Age for recent NPL is sensible to the length of the reference period;\n",
    "* The peak at 7, 20 and 33 months clearly represent horizon for NPL being considered from 2017, 2016 and 2015;\n",
    "* Old NPLs show an average age of about 100 months;"
   ]
  },
  {
   "cell_type": "markdown",
   "metadata": {},
   "source": [
    "## Overall probability of repaiment\n",
    "Earlier I have defined the feature 'RECOVERY_RATE_TOTAL' which represent the fraction of NPL being repaied. By definition this feature range from 0 (no recovery at all) to 1 (full repaiement).\n",
    "\n",
    "The binned distribution of this feature represent the fraction os NPLs for which a certain amount of debt is recovered. This can be interpreted as the overall probability of repaiment, i.e. for each NPL, the probability that a cerain amount could be recovered."
   ]
  },
  {
   "cell_type": "code",
   "execution_count": 45,
   "metadata": {},
   "outputs": [
    {
     "data": {
      "image/png": "[encoded data removed]",
      "text/plain": [
       "<matplotlib.figure.Figure at 0x10e0c09e8>"
      ]
     },
     "metadata": {},
     "output_type": "display_data"
    }
   ],
   "source": [
    "# Let's define the fraction of \n",
    "tmp=df.groupby('ID_CUSTOMER').last()\n",
    "f,b=np.histogram(tmp['RECOVERY_RATE_TOTAL'], range=[0,1], bins=np.arange(0,1.1,0.1))\n",
    "f = f/sum(f)\n",
    "\n",
    "w = 0.7 * (b[1] - b[0])\n",
    "c = (b[:-1] + b[1:]) / 2\n",
    "\n",
    "plt.figure(figsize=(7,5))\n",
    "plt.bar(c, f, align='center', width=w)\n",
    "plt.grid(True)\n",
    "plt.title('Overall probability of repaiement')\n",
    "plt.xlabel('Recovery rate')\n",
    "plt.ylabel('Probability')\n",
    "plt.show()"
   ]
  },
  {
   "cell_type": "code",
   "execution_count": 46,
   "metadata": {},
   "outputs": [
    {
     "name": "stdout",
     "output_type": "stream",
     "text": [
      "Prob. of debt repaiement: \n",
      " (0.0, 0.1): 0.88\n",
      " (0.1, 0.2): 0.03\n",
      " (0.2, 0.3): 0.02\n",
      " (0.3, 0.4): 0.01\n",
      " (0.4, 0.5): 0.01\n",
      " (0.5, 0.6): 0.01\n",
      " (0.6, 0.7): 0.01\n",
      " (0.7, 0.8): 0.01\n",
      " (0.8, 0.9): 0.01\n",
      " (0.9, 1.0): 0.01\n"
     ]
    }
   ],
   "source": [
    "print('Prob. of debt repaiement: ')\n",
    "for (b0,b1),f0 in zip(zip(b, b[1:]),f):\n",
    "    print(' (%.1f, %.1f): %.2f' % (b0,b1,f0))"
   ]
  },
  {
   "cell_type": "markdown",
   "metadata": {},
   "source": [
    "The bar plot and the table showed above represent the probability an NPL is repaied by a given amount (in bins of 10%).\n",
    "\n",
    "From this analysis we can make the following observaitons:\n",
    "* About 90% of the NPL get repaied for less than 10%;\n",
    "* About 11 % of the NPL get repaied between the 10% and the 90%;\n",
    "* About 1% of the NPL get repaid for more than 90%;"
   ]
  },
  {
   "cell_type": "markdown",
   "metadata": {},
   "source": [
    "# Summary\n",
    "\n",
    "In this notebook I have focus on the 'PERIMETRO_INIZIALE' file which represent the key dataset for this challenge. \n",
    "\n",
    "This dataset contain all the information related to NPL, among which: \n",
    "* The debt Gross Book Value;\n",
    "* Eventual amount paied by the customer;\n",
    "* The year of first credit distress;\n",
    "\n",
    "These are the key information to reach the challenge objective to **define a strategy to re-rank NPL customer according to the likelihood to repay** and/or by **suggesting new strategies to maximize the recovery rate**. \n",
    "\n",
    "To summarize, In this notebook I have performend the following:\n",
    "* Cleaned the dataset by removing/replacing null values and rejecting invalid rows;\n",
    "* Defined some interesiting new features such as:\n",
    "    * The age of the NPL: 'NUM_DATA_SOFFERENZA';\n",
    "    * The maximum amount of debt: 'MAX_IMP_GBV';\n",
    "    * The total NPL recovery rate: 'RECOVERY_RATE_TOTAL' defined as 'IMP_CUSUM_INCASSI' / 'MAX_IMP_GBV';\n",
    "* Perfomed some analytics to develop intuitions about the data and their meaning:\n",
    "    * Number of NPL, NPL volume, Total INCASSI, Recovery rate, Off-the-book debt by reference quarter;\n",
    "    * Number of NPL and NPL volume by first year of credit distress;\n",
    "    * Overall probability of repaiement;\n",
    "\n",
    "The key takeaways from this analysis are the following:\n",
    "1. The historical data of NPL seems to be sensitive to major macro-economic events such as the 2008 financial crisis;\n",
    "2. The number of NPL and their volume increased steadily up to Q1-2016 when ECB reccomandation to decrease NPE started to be implemented; \n",
    "3. Some actions implemented in 2016 removed about 19M€ of debt from the book, corresponding to about 18% of the GBV in the same period. As a results, the number NPL decreased by about 17%, and the amount recovered decreased by 30%;\n",
    "4. The overall probability of repaiment is low. Historically, about 90% of NPLs are repaied by less than 10% of their GBV;\n",
    "\n",
    "The resulting dataset is exported to further use in other notebook."
   ]
  },
  {
   "cell_type": "code",
   "execution_count": 47,
   "metadata": {},
   "outputs": [],
   "source": [
    "df.to_csv(path.join(DATA_PATH,'PERIMETRO_INIZIALE_PREPROCESS.csv'), index=False)"
   ]
  }
 ],
 "metadata": {
  "file_extension": ".py",
  "kernelspec": {
   "display_name": "Python 3.7.7 64-bit ('venv': venv)",
   "language": "python",
   "name": "python37764bitvenvvenvfe503c0923f24b28841663c718159e61"
  },
  "language_info": {
   "codemirror_mode": {
    "name": "ipython",
    "version": 3
   },
   "file_extension": ".py",
   "mimetype": "text/x-python",
   "name": "python",
   "nbconvert_exporter": "python",
   "pygments_lexer": "ipython3",
   "version": "3.7.7-final"
  },
  "mimetype": "text/x-python",
  "name": "python",
  "npconvert_exporter": "python",
  "pygments_lexer": "ipython3",
  "version": 3
 },
 "nbformat": 4,
 "nbformat_minor": 2
}